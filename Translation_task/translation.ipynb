{
  "cells": [
    {
      "cell_type": "markdown",
      "metadata": {},
      "source": [
        "## Imports..\n"
      ]
    },
    {
      "cell_type": "code",
      "execution_count": null,
      "metadata": {
        "id": "QltVY7KuTFfO"
      },
      "outputs": [],
      "source": [
        "! pip install -q transformers[torch] datasets"
      ]
    },
    {
      "cell_type": "code",
      "execution_count": 3,
      "metadata": {
        "id": "Q5rlPZWESwmA"
      },
      "outputs": [],
      "source": [
        "from datasets import load_dataset\n",
        "from transformers import pipeline, AutoModelForSeq2SeqLM, Seq2SeqTrainingArguments, Seq2SeqTrainer, AutoTokenizer"
      ]
    },
    {
      "cell_type": "markdown",
      "metadata": {
        "id": "s5vtJuNLmnM7"
      },
      "source": [
        "## Prepare Data"
      ]
    },
    {
      "cell_type": "code",
      "execution_count": 27,
      "metadata": {
        "colab": {
          "base_uri": "https://localhost:8080/"
        },
        "id": "IJ5ITMQ6VO2b",
        "outputId": "39835034-a02e-4703-a490-6ad1bb8fbb40"
      },
      "outputs": [
        {
          "name": "stderr",
          "output_type": "stream",
          "text": [
            "/usr/local/lib/python3.10/dist-packages/huggingface_hub/utils/_token.py:72: UserWarning: \n",
            "The secret `HF_TOKEN` does not exist in your Colab secrets.\n",
            "To authenticate with the Hugging Face Hub, create a token in your settings tab (https://huggingface.co/settings/tokens), set it as secret in your Google Colab and restart your session.\n",
            "You will be able to reuse this secret in all of your notebooks.\n",
            "Please note that authentication is recommended but still optional to access public models or datasets.\n",
            "  warnings.warn(\n"
          ]
        },
        {
          "data": {
            "text/plain": [
              "Dataset({\n",
              "    features: ['id', 'source', 'alignment_type', 'alignment_quality', 'translation'],\n",
              "    num_rows: 273885\n",
              "})"
            ]
          },
          "execution_count": 27,
          "metadata": {},
          "output_type": "execute_result"
        }
      ],
      "source": [
        "hin_en_data = load_dataset(\"hind_encorp\", split=\"train\")\n",
        "hin_en_data\n"
      ]
    },
    {
      "cell_type": "code",
      "execution_count": 5,
      "metadata": {
        "colab": {
          "base_uri": "https://localhost:8080/"
        },
        "id": "4QjSJ44HWp-u",
        "outputId": "6b54e80e-83d2-49bd-fb37-e0d21da13b4d"
      },
      "outputs": [
        {
          "data": {
            "text/plain": [
              "[{'en': 'Sharaabi', 'hi': 'शराबी'},\n",
              " {'en': 'politicians do not have permission to do what needs to be done.',\n",
              "  'hi': 'राजनीतिज्ञों के पास जो कार्य करना चाहिए, वह करने कि अनुमति नहीं है .'},\n",
              " {'en': \"I'd like to tell you about one such child,\",\n",
              "  'hi': 'मई आपको ऐसे ही एक बच्चे के बारे में बताना चाहूंगी,'},\n",
              " {'en': 'This percentage is even greater than the percentage in India.',\n",
              "  'hi': 'यह प्रतिशत भारत में हिन्दुओं प्रतिशत से अधिक है।'},\n",
              " {'en': '- John Collins', 'hi': '- जॉन कॉलिन्स'},\n",
              " {'en': \"what we really mean is that they're bad at not paying attention.\",\n",
              "  'hi': 'हम ये नहीं कहना चाहते कि वो ध्यान नहीं दे पाते'},\n",
              " {'en': '%{APPNAME} would like to send notifications, but you need to be signed in to Chrome.',\n",
              "  'hi': '%{APPNAME} सूचनाएं भेजना चाहता है, लेकिन आपको Chrome में साइन इन होना होगा.'},\n",
              " {'en': 'Important Messages', 'hi': 'महत्वपूर्ण संदेश'},\n",
              " {'en': \"User authentication required for VPN connection '%s'...\",\n",
              "  'hi': \"उपयोक्ता सत्यापन VPN संबंधन '%s' के लिए जरूरी है...\"},\n",
              " {'en': 'Surface width', 'hi': 'सतल चौड़ाई'}]"
            ]
          },
          "execution_count": 5,
          "metadata": {},
          "output_type": "execute_result"
        }
      ],
      "source": [
        "hin_en_data[:10][\"translation\"]"
      ]
    },
    {
      "cell_type": "code",
      "execution_count": 35,
      "metadata": {
        "colab": {
          "base_uri": "https://localhost:8080/"
        },
        "id": "pM7sRlbdXqqN",
        "outputId": "ccb42978-5697-4fab-915e-ff6baf100fba"
      },
      "outputs": [
        {
          "data": {
            "text/plain": [
              "DatasetDict({\n",
              "    train: Dataset({\n",
              "        features: ['id', 'source', 'alignment_type', 'alignment_quality', 'translation'],\n",
              "        num_rows: 219108\n",
              "    })\n",
              "    validation: Dataset({\n",
              "        features: ['id', 'source', 'alignment_type', 'alignment_quality', 'translation'],\n",
              "        num_rows: 27388\n",
              "    })\n",
              "    dev: Dataset({\n",
              "        features: ['id', 'source', 'alignment_type', 'alignment_quality', 'translation'],\n",
              "        num_rows: 27389\n",
              "    })\n",
              "})"
            ]
          },
          "execution_count": 35,
          "metadata": {},
          "output_type": "execute_result"
        }
      ],
      "source": [
        "hin_en_data = hin_en_data.train_test_split(test_size =0.2)\n",
        "hin_en_data_train = hin_en_data[\"train\"]\n",
        "hin_en_data_test_val = hin_en_data[\"test\"].train_test_split(0.5)\n",
        "hin_en_data_test = hin_en_data_test_val[\"train\"]\n",
        "hin_en_data_dev = hin_en_data_test_val[\"test\"]\n",
        "\n",
        "hin_en_data_train, hin_en_data_test,hin_en_data_dev\n",
        "\n",
        "from datasets import DatasetDict\n",
        "split_dataset = DatasetDict({\"train\": hin_en_data[\"train\"], \"validation\": hin_en_data_test_val[\"train\"], \"dev\": hin_en_data_test_val[\"test\"]})\n",
        "split_dataset"
      ]
    },
    {
      "cell_type": "code",
      "execution_count": 36,
      "metadata": {
        "colab": {
          "base_uri": "https://localhost:8080/"
        },
        "id": "tTJKdyEGJcl0",
        "outputId": "e05b4593-5d38-4a17-ffec-3715efc59411"
      },
      "outputs": [
        {
          "data": {
            "text/plain": [
              "DatasetDict({\n",
              "    train: Dataset({\n",
              "        features: ['id', 'source', 'alignment_type', 'alignment_quality', 'translation'],\n",
              "        num_rows: 219108\n",
              "    })\n",
              "    validation: Dataset({\n",
              "        features: ['id', 'source', 'alignment_type', 'alignment_quality', 'translation'],\n",
              "        num_rows: 27388\n",
              "    })\n",
              "    dev: Dataset({\n",
              "        features: ['id', 'source', 'alignment_type', 'alignment_quality', 'translation'],\n",
              "        num_rows: 27389\n",
              "    })\n",
              "})"
            ]
          },
          "execution_count": 36,
          "metadata": {},
          "output_type": "execute_result"
        }
      ],
      "source": [
        "split_dataset"
      ]
    },
    {
      "cell_type": "code",
      "execution_count": 8,
      "metadata": {
        "colab": {
          "base_uri": "https://localhost:8080/"
        },
        "id": "Lx3mWYpLca0P",
        "outputId": "e694df6c-a47e-48b3-a63b-d339477b4ea4"
      },
      "outputs": [
        {
          "name": "stdout",
          "output_type": "stream",
          "text": [
            "Requirement already satisfied: evaluate in /usr/local/lib/python3.10/dist-packages (0.4.1)\n",
            "Requirement already satisfied: rouge_score in /usr/local/lib/python3.10/dist-packages (0.1.2)\n",
            "Requirement already satisfied: datasets>=2.0.0 in /usr/local/lib/python3.10/dist-packages (from evaluate) (2.16.1)\n",
            "Requirement already satisfied: numpy>=1.17 in /usr/local/lib/python3.10/dist-packages (from evaluate) (1.23.5)\n",
            "Requirement already satisfied: dill in /usr/local/lib/python3.10/dist-packages (from evaluate) (0.3.7)\n",
            "Requirement already satisfied: pandas in /usr/local/lib/python3.10/dist-packages (from evaluate) (1.5.3)\n",
            "Requirement already satisfied: requests>=2.19.0 in /usr/local/lib/python3.10/dist-packages (from evaluate) (2.31.0)\n",
            "Requirement already satisfied: tqdm>=4.62.1 in /usr/local/lib/python3.10/dist-packages (from evaluate) (4.66.1)\n",
            "Requirement already satisfied: xxhash in /usr/local/lib/python3.10/dist-packages (from evaluate) (3.4.1)\n",
            "Requirement already satisfied: multiprocess in /usr/local/lib/python3.10/dist-packages (from evaluate) (0.70.15)\n",
            "Requirement already satisfied: fsspec[http]>=2021.05.0 in /usr/local/lib/python3.10/dist-packages (from evaluate) (2023.6.0)\n",
            "Requirement already satisfied: huggingface-hub>=0.7.0 in /usr/local/lib/python3.10/dist-packages (from evaluate) (0.20.1)\n",
            "Requirement already satisfied: packaging in /usr/local/lib/python3.10/dist-packages (from evaluate) (23.2)\n",
            "Requirement already satisfied: responses<0.19 in /usr/local/lib/python3.10/dist-packages (from evaluate) (0.18.0)\n",
            "Requirement already satisfied: absl-py in /usr/local/lib/python3.10/dist-packages (from rouge_score) (1.4.0)\n",
            "Requirement already satisfied: nltk in /usr/local/lib/python3.10/dist-packages (from rouge_score) (3.8.1)\n",
            "Requirement already satisfied: six>=1.14.0 in /usr/local/lib/python3.10/dist-packages (from rouge_score) (1.16.0)\n",
            "Requirement already satisfied: filelock in /usr/local/lib/python3.10/dist-packages (from datasets>=2.0.0->evaluate) (3.13.1)\n",
            "Requirement already satisfied: pyarrow>=8.0.0 in /usr/local/lib/python3.10/dist-packages (from datasets>=2.0.0->evaluate) (10.0.1)\n",
            "Requirement already satisfied: pyarrow-hotfix in /usr/local/lib/python3.10/dist-packages (from datasets>=2.0.0->evaluate) (0.6)\n",
            "Requirement already satisfied: aiohttp in /usr/local/lib/python3.10/dist-packages (from datasets>=2.0.0->evaluate) (3.9.1)\n",
            "Requirement already satisfied: pyyaml>=5.1 in /usr/local/lib/python3.10/dist-packages (from datasets>=2.0.0->evaluate) (6.0.1)\n",
            "Requirement already satisfied: typing-extensions>=3.7.4.3 in /usr/local/lib/python3.10/dist-packages (from huggingface-hub>=0.7.0->evaluate) (4.5.0)\n",
            "Requirement already satisfied: charset-normalizer<4,>=2 in /usr/local/lib/python3.10/dist-packages (from requests>=2.19.0->evaluate) (3.3.2)\n",
            "Requirement already satisfied: idna<4,>=2.5 in /usr/local/lib/python3.10/dist-packages (from requests>=2.19.0->evaluate) (3.6)\n",
            "Requirement already satisfied: urllib3<3,>=1.21.1 in /usr/local/lib/python3.10/dist-packages (from requests>=2.19.0->evaluate) (2.0.7)\n",
            "Requirement already satisfied: certifi>=2017.4.17 in /usr/local/lib/python3.10/dist-packages (from requests>=2.19.0->evaluate) (2023.11.17)\n",
            "Requirement already satisfied: click in /usr/local/lib/python3.10/dist-packages (from nltk->rouge_score) (8.1.7)\n",
            "Requirement already satisfied: joblib in /usr/local/lib/python3.10/dist-packages (from nltk->rouge_score) (1.3.2)\n",
            "Requirement already satisfied: regex>=2021.8.3 in /usr/local/lib/python3.10/dist-packages (from nltk->rouge_score) (2023.6.3)\n",
            "Requirement already satisfied: python-dateutil>=2.8.1 in /usr/local/lib/python3.10/dist-packages (from pandas->evaluate) (2.8.2)\n",
            "Requirement already satisfied: pytz>=2020.1 in /usr/local/lib/python3.10/dist-packages (from pandas->evaluate) (2023.3.post1)\n",
            "Requirement already satisfied: attrs>=17.3.0 in /usr/local/lib/python3.10/dist-packages (from aiohttp->datasets>=2.0.0->evaluate) (23.1.0)\n",
            "Requirement already satisfied: multidict<7.0,>=4.5 in /usr/local/lib/python3.10/dist-packages (from aiohttp->datasets>=2.0.0->evaluate) (6.0.4)\n",
            "Requirement already satisfied: yarl<2.0,>=1.0 in /usr/local/lib/python3.10/dist-packages (from aiohttp->datasets>=2.0.0->evaluate) (1.9.4)\n",
            "Requirement already satisfied: frozenlist>=1.1.1 in /usr/local/lib/python3.10/dist-packages (from aiohttp->datasets>=2.0.0->evaluate) (1.4.1)\n",
            "Requirement already satisfied: aiosignal>=1.1.2 in /usr/local/lib/python3.10/dist-packages (from aiohttp->datasets>=2.0.0->evaluate) (1.3.1)\n",
            "Requirement already satisfied: async-timeout<5.0,>=4.0 in /usr/local/lib/python3.10/dist-packages (from aiohttp->datasets>=2.0.0->evaluate) (4.0.3)\n"
          ]
        }
      ],
      "source": [
        "!pip install evaluate rouge_score\n"
      ]
    },
    {
      "cell_type": "markdown",
      "metadata": {
        "id": "fvj4EMWqnZyC"
      },
      "source": [
        "## Playground with model"
      ]
    },
    {
      "cell_type": "code",
      "execution_count": 10,
      "metadata": {
        "colab": {
          "base_uri": "https://localhost:8080/"
        },
        "id": "jSntTilvrm0m",
        "outputId": "5ce9785f-ed92-4783-adb6-863b3513dc27"
      },
      "outputs": [
        {
          "name": "stdout",
          "output_type": "stream",
          "text": [
            "Requirement already satisfied: sentencepiece in /usr/local/lib/python3.10/dist-packages (0.1.99)\n"
          ]
        }
      ],
      "source": [
        "!pip install sentencepiece"
      ]
    },
    {
      "cell_type": "code",
      "execution_count": 22,
      "metadata": {
        "colab": {
          "base_uri": "https://localhost:8080/"
        },
        "id": "6ZxCAtYfefUa",
        "outputId": "9495aa74-f919-4935-f517-62ad2b5f983c"
      },
      "outputs": [
        {
          "name": "stderr",
          "output_type": "stream",
          "text": [
            "/usr/local/lib/python3.10/dist-packages/huggingface_hub/utils/_token.py:72: UserWarning: \n",
            "The secret `HF_TOKEN` does not exist in your Colab secrets.\n",
            "To authenticate with the Hugging Face Hub, create a token in your settings tab (https://huggingface.co/settings/tokens), set it as secret in your Google Colab and restart your session.\n",
            "You will be able to reuse this secret in all of your notebooks.\n",
            "Please note that authentication is recommended but still optional to access public models or datasets.\n",
            "  warnings.warn(\n",
            "/usr/local/lib/python3.10/dist-packages/transformers/models/marian/tokenization_marian.py:197: UserWarning: Recommended: pip install sacremoses.\n",
            "  warnings.warn(\"Recommended: pip install sacremoses.\")\n"
          ]
        },
        {
          "data": {
            "text/plain": [
              "[{'translation_text': 'यह तयशुदा व्यवहार है'}]"
            ]
          },
          "execution_count": 22,
          "metadata": {},
          "output_type": "execute_result"
        }
      ],
      "source": [
        "model_chk = \"Helsinki-NLP/opus-mt-en-hi\"\n",
        "translator = pipeline(\"translation\", model=model_chk)\n",
        "translator(\"This is a default behaviour\")"
      ]
    },
    {
      "cell_type": "markdown",
      "metadata": {
        "id": "byNAlh55oGfj"
      },
      "source": [
        "## Preprocessing the input"
      ]
    },
    {
      "cell_type": "code",
      "execution_count": 12,
      "metadata": {
        "id": "ps6CETk8oGTd"
      },
      "outputs": [],
      "source": [
        "tokenizer = AutoTokenizer.from_pretrained(model_chk, return_tensors=\"pt\")"
      ]
    },
    {
      "cell_type": "code",
      "execution_count": 13,
      "metadata": {
        "colab": {
          "base_uri": "https://localhost:8080/"
        },
        "id": "Zn2FkEP9oGQF",
        "outputId": "18ac732a-d0b8-4a1b-9d5f-b6df6ec8d243"
      },
      "outputs": [
        {
          "data": {
            "text/plain": [
              "{'input_ids': [653, 20566, 72, 144, 4384, 2141, 23, 26, 932, 4575, 23479, 8, 144, 32720, 54, 72, 4, 8260, 37740, 16, 10, 3098, 8260, 11479, 44, 3, 0], 'attention_mask': [1, 1, 1, 1, 1, 1, 1, 1, 1, 1, 1, 1, 1, 1, 1, 1, 1, 1, 1, 1, 1, 1, 1, 1, 1, 1, 1], 'labels': [356, 27275, 10265, 15, 38, 7002, 5, 25, 217, 932, 2777, 4240, 14749, 4430, 1194, 1231, 10523, 130, 14749, 879, 4807, 32925, 12, 28, 44, 3, 0]}"
            ]
          },
          "execution_count": 13,
          "metadata": {},
          "output_type": "execute_result"
        }
      ],
      "source": [
        "# an example tokenization -\n",
        "en_sent = hin_en_data_train[9][\"translation\"][\"en\"]\n",
        "hin_tran = hin_en_data_train[9][\"translation\"][\"hi\"]\n",
        "tkn_in = tokenizer(en_sent, text_target=hin_tran)\n",
        "tkn_in"
      ]
    },
    {
      "cell_type": "code",
      "execution_count": 14,
      "metadata": {
        "colab": {
          "base_uri": "https://localhost:8080/"
        },
        "id": "cqL-nhgvuemp",
        "outputId": "d1528a7f-9ebd-42d6-cd39-5928ffdfae84"
      },
      "outputs": [
        {
          "name": "stdout",
          "output_type": "stream",
          "text": [
            "{'input_ids': [[4940, 140, 2, 31, 5755, 2, 185, 1049, 6057, 86, 18, 3201, 5, 0]], 'attention_mask': [[1, 1, 1, 1, 1, 1, 1, 1, 1, 1, 1, 1, 1, 1]]}\n"
          ]
        },
        {
          "name": "stderr",
          "output_type": "stream",
          "text": [
            "/usr/local/lib/python3.10/dist-packages/transformers/tokenization_utils_base.py:3856: UserWarning: `as_target_tokenizer` is deprecated and will be removed in v5 of Transformers. You can tokenize your labels by using the argument `text_target` of the regular `__call__` method (either in the same call as your input texts if you use the same keyword arguments, or in a separate call.\n",
            "  warnings.warn(\n"
          ]
        }
      ],
      "source": [
        "# to see the target tokenizer\n",
        "with tokenizer.as_target_tokenizer():\n",
        "  print(tokenizer([\"मैने कहा, “हाँ, हमें दूसरी क्लासों को दिखाना है\"]))"
      ]
    },
    {
      "cell_type": "code",
      "execution_count": 15,
      "metadata": {
        "colab": {
          "base_uri": "https://localhost:8080/"
        },
        "id": "IC3IcwTVoGM9",
        "outputId": "054d5cc9-9788-4e0e-ab4e-362162badade"
      },
      "outputs": [
        {
          "name": "stdout",
          "output_type": "stream",
          "text": [
            "['▁', 'ह', 'म', 'ा', 'र', 'ी', '▁', 'वि', 'ग', 'त', '▁', 'र', 'ा', 'ज', 'न', 'ी', 'ति', '▁', 'क', 'ी', '▁', 'ए', 'क', '▁', 'वि', 'र', 'ा', 'सत', '▁', 'है', '▁', 'कि', '▁', 'ह', 'म', 'ा', 'र', 'े', '▁10', '▁', 'प', '्', 'र', '<unk>', '▁', 'स', 'ं', 'ग', '्', 'र', 'ह', '▁', 'ब', '्', 'र', 'ि', 'ट', 'िश', '▁', 'द', '्', 'व', 'ी', 'प', '▁', 'स', 'म', '<unk>', '▁', '<unk>', 'ा', '▁', 'प', 'ू', 'र', '्', '<unk>', 'र', '्', 'त', 'ी', '▁', 'ब', '्', 'र', 'ि', 'ट', 'िश', '▁', 'स', 'ा', 'म', 'ा', 'ज', '्', 'य', '▁', 'से', '▁', 'है', 'ं', '▁', '.', '</s>']\n",
            "['▁हमारी', '▁विगत', '▁राजनीति', '▁की', '▁एक', '▁विरासत', '▁है', '▁कि', '▁हमारे', '▁10', '▁प्रतिशत', '▁संग्रह', '▁ब्रिटिश', '▁द्वीप', '▁समूह', '▁तथा', '▁पूर्ववर्त', 'ी', '▁ब्रिटिश', '▁सा', 'मा', 'ज्य', '▁से', '▁हैं', '▁', '.', '</s>']\n"
          ]
        }
      ],
      "source": [
        "wrong_targets = tokenizer(hin_tran)\n",
        "print(tokenizer.convert_ids_to_tokens(wrong_targets[\"input_ids\"]))\n",
        "print(tokenizer.convert_ids_to_tokens(tkn_in[\"labels\"]))"
      ]
    },
    {
      "cell_type": "code",
      "execution_count": 16,
      "metadata": {
        "id": "peq5cAfkoGJl"
      },
      "outputs": [],
      "source": [
        "src_lang, tgt_lang = \"en\", \"hi\"\n",
        "max_input_len, max_target_len = 128, 128\n",
        "\n",
        "def preprocess_data(examples):\n",
        "  inputs = [ex[src_lang] for ex in examples[\"translation\"]]\n",
        "  targets = [ex[tgt_lang] for ex in examples[\"translation\"]]\n",
        "  model_inputs = tokenizer(inputs, max_length=max_input_len, truncation=True)\n",
        "  with tokenizer.as_target_tokenizer():\n",
        "    labels = tokenizer(targets, max_length=max_target_len, truncation=True)\n",
        "  model_inputs[\"labels\"] = labels[\"input_ids\"]\n",
        "  return model_inputs"
      ]
    },
    {
      "cell_type": "code",
      "execution_count": 17,
      "metadata": {
        "colab": {
          "base_uri": "https://localhost:8080/"
        },
        "id": "YoE1UPkAoGE7",
        "outputId": "5d87330b-30aa-4126-cc58-de01e4ff136a"
      },
      "outputs": [
        {
          "data": {
            "text/plain": [
              "{'input_ids': [[3569, 74, 1137, 1406, 1857, 292, 7, 2953, 19, 2577, 14565, 21, 4, 9774, 8, 371, 14702, 3865, 44, 3, 0], [5112, 7, 3346, 0]], 'attention_mask': [[1, 1, 1, 1, 1, 1, 1, 1, 1, 1, 1, 1, 1, 1, 1, 1, 1, 1, 1, 1, 1], [1, 1, 1, 1]], 'labels': [[141, 48096, 69, 10661, 4644, 1185, 8111, 9333, 1185, 18872, 69, 24218, 678, 4678, 12, 140, 25, 214, 499, 51284, 48096, 15, 5550, 11, 38, 2180, 22827, 22685, 245, 44, 3, 0], [3437, 33, 2553, 0]]}"
            ]
          },
          "execution_count": 17,
          "metadata": {},
          "output_type": "execute_result"
        }
      ],
      "source": [
        "preprocess_data(hin_en_data_train[:2])"
      ]
    },
    {
      "cell_type": "code",
      "execution_count": 38,
      "metadata": {
        "id": "cOcwfgl9oGA-"
      },
      "outputs": [],
      "source": [
        "# So, our tokenized dataset will be :\n",
        "tokenized_dataset = split_dataset.map(preprocess_data, batched=True, remove_columns=split_dataset[\"train\"].column_names)\n"
      ]
    },
    {
      "cell_type": "code",
      "execution_count": 23,
      "metadata": {
        "colab": {
          "base_uri": "https://localhost:8080/"
        },
        "id": "GQFJE-W5oF96",
        "outputId": "f881dbb1-c1c2-4516-f647-c58af632b0e9"
      },
      "outputs": [
        {
          "name": "stderr",
          "output_type": "stream",
          "text": [
            "/usr/local/lib/python3.10/dist-packages/huggingface_hub/utils/_token.py:72: UserWarning: \n",
            "The secret `HF_TOKEN` does not exist in your Colab secrets.\n",
            "To authenticate with the Hugging Face Hub, create a token in your settings tab (https://huggingface.co/settings/tokens), set it as secret in your Google Colab and restart your session.\n",
            "You will be able to reuse this secret in all of your notebooks.\n",
            "Please note that authentication is recommended but still optional to access public models or datasets.\n",
            "  warnings.warn(\n"
          ]
        }
      ],
      "source": [
        "# apna model\n",
        "model = AutoModelForSeq2SeqLM.from_pretrained(model_chk)\n"
      ]
    },
    {
      "cell_type": "code",
      "execution_count": 25,
      "metadata": {
        "id": "fBHeIFgtoF3m"
      },
      "outputs": [],
      "source": [
        "from transformers import DataCollatorForSeq2Seq, AdamWeightDecay\n",
        "batch_size = 16\n",
        "lr = 2e-5\n",
        "weight_decay = 0.01\n",
        "num_train_epochs = 1\n",
        "\n",
        "data_collator = DataCollatorForSeq2Seq(tokenizer, model=model,return_tensors=\"pt\")\n",
        "\n",
        "generation_data_collator = DataCollatorForSeq2Seq(tokenizer, model=model,return_tensors=\"pt\", pad_to_multiple_of=128)"
      ]
    },
    {
      "cell_type": "code",
      "execution_count": 40,
      "metadata": {
        "colab": {
          "base_uri": "https://localhost:8080/"
        },
        "id": "gT1KVtEGINv4",
        "outputId": "caf4f960-73ca-4b98-91d2-8da629a04d49"
      },
      "outputs": [
        {
          "data": {
            "text/plain": [
              "dict_keys(['input_ids', 'attention_mask', 'labels', 'decoder_input_ids'])"
            ]
          },
          "execution_count": 40,
          "metadata": {},
          "output_type": "execute_result"
        }
      ],
      "source": [
        "batch = data_collator([tokenized_dataset[\"train\"][i] for i in range(1, 3)])\n",
        "batch.keys()"
      ]
    },
    {
      "cell_type": "code",
      "execution_count": null,
      "metadata": {
        "id": "WBQ6tJJjMSbq"
      },
      "outputs": [],
      "source": []
    },
    {
      "cell_type": "markdown",
      "metadata": {
        "id": "NaF_U-YEbjZg"
      },
      "source": [
        "## Full Finetuning..."
      ]
    },
    {
      "cell_type": "code",
      "execution_count": 43,
      "metadata": {
        "colab": {
          "base_uri": "https://localhost:8080/",
          "height": 142
        },
        "id": "uLFK1rlAoF0u",
        "outputId": "32f10c72-1a85-4895-9a8d-de9471227b29"
      },
      "outputs": [
        {
          "data": {
            "text/html": [
              "\n",
              "    <div>\n",
              "      \n",
              "      <progress value='13695' max='13695' style='width:300px; height:20px; vertical-align: middle;'></progress>\n",
              "      [13695/13695 30:50, Epoch 1/1]\n",
              "    </div>\n",
              "    <table border=\"1\" class=\"dataframe\">\n",
              "  <thead>\n",
              " <tr style=\"text-align: left;\">\n",
              "      <th>Epoch</th>\n",
              "      <th>Training Loss</th>\n",
              "      <th>Validation Loss</th>\n",
              "    </tr>\n",
              "  </thead>\n",
              "  <tbody>\n",
              "    <tr>\n",
              "      <td>1</td>\n",
              "      <td>3.368800</td>\n",
              "      <td>3.182079</td>\n",
              "    </tr>\n",
              "  </tbody>\n",
              "</table><p>"
            ],
            "text/plain": [
              "<IPython.core.display.HTML object>"
            ]
          },
          "metadata": {},
          "output_type": "display_data"
        },
        {
          "data": {
            "text/plain": [
              "TrainOutput(global_step=13695, training_loss=3.535065390289853, metrics={'train_runtime': 1852.6468, 'train_samples_per_second': 118.268, 'train_steps_per_second': 7.392, 'total_flos': 3949398921314304.0, 'train_loss': 3.535065390289853, 'epoch': 1.0})"
            ]
          },
          "execution_count": 43,
          "metadata": {},
          "output_type": "execute_result"
        }
      ],
      "source": [
        "# finetuning\n",
        "training_args = Seq2SeqTrainingArguments(\n",
        "    output_dir=\"./my_fine_tuned_helsinki_hindi_translation_model\",\n",
        "    evaluation_strategy=\"epoch\",\n",
        "    learning_rate=2e-5,\n",
        "    per_device_train_batch_size=16,\n",
        "    per_device_eval_batch_size=16,\n",
        "    weight_decay=0.01,\n",
        "    save_total_limit=3,\n",
        "    num_train_epochs=1,\n",
        "    predict_with_generate=True,\n",
        "    optim=\"adamw_torch\",\n",
        "    fp16=True,\n",
        ")\n",
        "\n",
        "\n",
        "# data_collator = DataCollatorForSeq2Seq(tokenizer=tokenizer)\n",
        "trainer = Seq2SeqTrainer(\n",
        "    model,\n",
        "    training_args,\n",
        "    train_dataset=tokenized_dataset[\"train\"],\n",
        "    eval_dataset=tokenized_dataset[\"validation\"],\n",
        "    tokenizer=tokenizer,\n",
        "    data_collator=data_collator,\n",
        ")\n",
        "\n",
        "# trainer = Seq2SeqTrainer(\n",
        "#     model=model,\n",
        "#     args=training_args,\n",
        "#     train_dataset=tokenized_dataset[\"train\"],\n",
        "#     eval_dataset=tokenized_dataset[\"validation\"],\n",
        "#     # compute_metrics=compute_metrics,\n",
        "# )\n",
        "trainer.train()"
      ]
    },
    {
      "cell_type": "code",
      "execution_count": 45,
      "metadata": {
        "id": "4R9hmLj9oFxo"
      },
      "outputs": [],
      "source": [
        "model_path = f'./LLMs/'\n",
        "\n",
        "trainer.save_model(model_path)\n",
        "trainer.save_state()\n"
      ]
    },
    {
      "cell_type": "code",
      "execution_count": 53,
      "metadata": {
        "id": "dS-O4PDxoFt_"
      },
      "outputs": [],
      "source": [
        "finetuned_model_path = \"./my_fine_tuned_helsinki_hindi_translation_model\"\n",
        "tokenizer.save_pretrained(finetuned_model_path)\n",
        "# tokenizer = AutoTokenizer.from_pretrained(model_chk, return_tensors=\"pt\")\n",
        "fine_tuned_model = AutoModelForSeq2SeqLM.from_pretrained(finetuned_model_path)"
      ]
    },
    {
      "cell_type": "markdown",
      "metadata": {
        "id": "HhLL5frHbtcN"
      },
      "source": [
        "## Testing our FineTuned model!"
      ]
    },
    {
      "cell_type": "code",
      "execution_count": 54,
      "metadata": {
        "id": "kfwm9L8NoFlX"
      },
      "outputs": [],
      "source": [
        "stmt = \"I like this exercise very much.\"\n",
        "inputs = tokenizer(stmt, return_tensors=\"pt\", truncation=True, padding=True)\n",
        "prediction = fine_tuned_model.generate(input_ids=inputs[\"input_ids\"], attention_mask=inputs[\"attention_mask\"])"
      ]
    },
    {
      "cell_type": "code",
      "execution_count": 59,
      "metadata": {
        "colab": {
          "base_uri": "https://localhost:8080/",
          "height": 301
        },
        "id": "sSAg7pZcoFiU",
        "outputId": "1d42b2df-6fea-46be-ecb1-d8fb166b994b"
      },
      "outputs": [
        {
          "data": {
            "text/html": [
              "\n",
              "  <div id=\"df-5b915a96-2678-408e-98e6-b5d2b4096c17\" class=\"colab-df-container\">\n",
              "    <div>\n",
              "<style scoped>\n",
              "    .dataframe tbody tr th:only-of-type {\n",
              "        vertical-align: middle;\n",
              "    }\n",
              "\n",
              "    .dataframe tbody tr th {\n",
              "        vertical-align: top;\n",
              "    }\n",
              "\n",
              "    .dataframe thead th {\n",
              "        text-align: right;\n",
              "    }\n",
              "</style>\n",
              "<table border=\"1\" class=\"dataframe\">\n",
              "  <thead>\n",
              "    <tr style=\"text-align: right;\">\n",
              "      <th></th>\n",
              "      <th>id</th>\n",
              "      <th>translation</th>\n",
              "    </tr>\n",
              "  </thead>\n",
              "  <tbody>\n",
              "    <tr>\n",
              "      <th>0</th>\n",
              "      <td>I</td>\n",
              "      <td>मैं इस अभ्यास को बहुत ज्यादा पसंद करता हूँ.</td>\n",
              "    </tr>\n",
              "  </tbody>\n",
              "</table>\n",
              "</div>\n",
              "    <div class=\"colab-df-buttons\">\n",
              "\n",
              "  <div class=\"colab-df-container\">\n",
              "    <button class=\"colab-df-convert\" onclick=\"convertToInteractive('df-5b915a96-2678-408e-98e6-b5d2b4096c17')\"\n",
              "            title=\"Convert this dataframe to an interactive table.\"\n",
              "            style=\"display:none;\">\n",
              "\n",
              "  <svg xmlns=\"http://www.w3.org/2000/svg\" height=\"24px\" viewBox=\"0 -960 960 960\">\n",
              "    <path d=\"M120-120v-720h720v720H120Zm60-500h600v-160H180v160Zm220 220h160v-160H400v160Zm0 220h160v-160H400v160ZM180-400h160v-160H180v160Zm440 0h160v-160H620v160ZM180-180h160v-160H180v160Zm440 0h160v-160H620v160Z\"/>\n",
              "  </svg>\n",
              "    </button>\n",
              "\n",
              "  <style>\n",
              "    .colab-df-container {\n",
              "      display:flex;\n",
              "      gap: 12px;\n",
              "    }\n",
              "\n",
              "    .colab-df-convert {\n",
              "      background-color: #E8F0FE;\n",
              "      border: none;\n",
              "      border-radius: 50%;\n",
              "      cursor: pointer;\n",
              "      display: none;\n",
              "      fill: #1967D2;\n",
              "      height: 32px;\n",
              "      padding: 0 0 0 0;\n",
              "      width: 32px;\n",
              "    }\n",
              "\n",
              "    .colab-df-convert:hover {\n",
              "      background-color: #E2EBFA;\n",
              "      box-shadow: 0px 1px 2px rgba(60, 64, 67, 0.3), 0px 1px 3px 1px rgba(60, 64, 67, 0.15);\n",
              "      fill: #174EA6;\n",
              "    }\n",
              "\n",
              "    .colab-df-buttons div {\n",
              "      margin-bottom: 4px;\n",
              "    }\n",
              "\n",
              "    [theme=dark] .colab-df-convert {\n",
              "      background-color: #3B4455;\n",
              "      fill: #D2E3FC;\n",
              "    }\n",
              "\n",
              "    [theme=dark] .colab-df-convert:hover {\n",
              "      background-color: #434B5C;\n",
              "      box-shadow: 0px 1px 3px 1px rgba(0, 0, 0, 0.15);\n",
              "      filter: drop-shadow(0px 1px 2px rgba(0, 0, 0, 0.3));\n",
              "      fill: #FFFFFF;\n",
              "    }\n",
              "  </style>\n",
              "\n",
              "    <script>\n",
              "      const buttonEl =\n",
              "        document.querySelector('#df-5b915a96-2678-408e-98e6-b5d2b4096c17 button.colab-df-convert');\n",
              "      buttonEl.style.display =\n",
              "        google.colab.kernel.accessAllowed ? 'block' : 'none';\n",
              "\n",
              "      async function convertToInteractive(key) {\n",
              "        const element = document.querySelector('#df-5b915a96-2678-408e-98e6-b5d2b4096c17');\n",
              "        const dataTable =\n",
              "          await google.colab.kernel.invokeFunction('convertToInteractive',\n",
              "                                                    [key], {});\n",
              "        if (!dataTable) return;\n",
              "\n",
              "        const docLinkHtml = 'Like what you see? Visit the ' +\n",
              "          '<a target=\"_blank\" href=https://colab.research.google.com/notebooks/data_table.ipynb>data table notebook</a>'\n",
              "          + ' to learn more about interactive tables.';\n",
              "        element.innerHTML = '';\n",
              "        dataTable['output_type'] = 'display_data';\n",
              "        await google.colab.output.renderOutput(dataTable, element);\n",
              "        const docLink = document.createElement('div');\n",
              "        docLink.innerHTML = docLinkHtml;\n",
              "        element.appendChild(docLink);\n",
              "      }\n",
              "    </script>\n",
              "  </div>\n",
              "\n",
              "    </div>\n",
              "  </div>\n"
            ],
            "text/plain": [
              "  id                                  translation\n",
              "0  I  मैं इस अभ्यास को बहुत ज्यादा पसंद करता हूँ."
            ]
          },
          "metadata": {},
          "output_type": "display_data"
        },
        {
          "data": {
            "text/html": [
              "<h4 class=\"colab-quickchart-section-title\">Time series</h4>\n",
              "<style>\n",
              "  .colab-quickchart-section-title {\n",
              "      clear: both;\n",
              "  }\n",
              "</style>"
            ],
            "text/plain": [
              "<google.colab._quickchart_helpers.SectionTitle at 0x7fc82f8cdcf0>"
            ]
          },
          "metadata": {},
          "output_type": "display_data"
        },
        {
          "data": {
            "text/html": [
              "      <div class=\"colab-quickchart-chart-with-code\" id=\"chart-cb6b00ce-acc5-4bcc-8251-083855ddef17\">\n",
              "        <img style=\"width: 180px;\" src=\"data:image/png;base64,iVBORw0KGgoAAAANSUhEUgAAA/MAAAITCAYAAABLz0yVAAAAOXRFWHRTb2Z0d2FyZQBNYXRwbG90\n",
              "bGliIHZlcnNpb24zLjcuMSwgaHR0cHM6Ly9tYXRwbG90bGliLm9yZy/bCgiHAAAACXBIWXMAAA9h\n",
              "AAAPYQGoP6dpAAAjFklEQVR4nO3df5BV9X3/8ddlqWu08iMjETvrsi4/VPyFooxAKolJR0wFf2CN\n",
              "TU2GRhDbpjpSizINbWisJo2iFNNRO4yNZmqaojFM0ulMo61FsYMWMRU1EWRdMKIxVZZYQZY9/cPJ\n",
              "frNfQNm4l+Ujj8fMGbn3fPbu+8x8Zscn9+6hVlVVFQAAAKAYA/p7AAAAAKB3xDwAAAAURswDAABA\n",
              "YcQ8AAAAFEbMAwAAQGHEPAAAABRGzAMAAEBhxDwAAAAU5gMf84sXL+7vEQAAAKBPfeBj/sUXX+zv\n",
              "EQAAAKBPfeBjHgAAAD5oxDwAAAAURswDAABAYcQ8AAAAFEbMAwAAQGHEPAAAABRGzAMAAEBhxDwA\n",
              "AAAURswDAABAYcQ8AAAAFEbMAwAAQGHEPAAAABRGzAMAAEBhxDwAAAAURswDAABAYcQ8AAAAFEbM\n",
              "AwAAQGHEPAAAABRGzAMAAEBhxDwAAAAURswDAABAYcQ8AAAAFEbMAwAAQGHEPAAAABRGzAMAAEBh\n",
              "xDwAAAAURswDAABAYcQ8AAAAFEbMAwAAQGHEPAAAABRGzAMAAEBhxDwAAAAURswDAABAYcQ8AAAA\n",
              "FEbMAwAAQGHEPAAAABRGzAMAAEBhxDwAAAAURswDAABAYcQ8AAAAFEbMAwAAQGHEPAAAABRGzAMA\n",
              "AEBhxDwAAAAURswDAABAYcQ8AAAAFEbMAwAAQGHEPAAAABRGzAMAAEBhxDwAAAAURswDAABAYcQ8\n",
              "AAAAFEbMAwAAQGHEPAAAABRGzAMAAEBhxDwAAAAURswDAABAYcQ8AAAAFEbMAwAAQGHEPAAAABRG\n",
              "zAMAAEBh6hrzV155ZVpaWlKr1bJmzZo9rlu6dGlGjx6dkSNHZvbs2dmxY0eP81VV5ayzzsqQIUPq\n",
              "OS4AAAAUoa4xf9FFF+WRRx7JiBEj9rhmw4YNWbBgQVasWJF169bllVdeyZ133tljzS233JKRI0fW\n",
              "c1QAAAAoRl1j/swzz0xTU9O7rlm2bFmmT5+e4cOHp1ar5Yorrsi9997bfX7t2rV54IEHct11173n\n",
              "99u+fXs6Ojp6HDt37nzf1wEAAAD7k37/nfn29vYe79y3tLSkvb09SbJjx47Mnj07d9xxRxoaGt7z\n",
              "tW688cYMHjy4x7Fq1aq6zQ4AAAD9od9j/t0sXLgwF154YY477ri9Wj9//vxs2bKlxzFhwoQ6TwkA\n",
              "AAD71sD+HqC5uTnr16/vftzW1pbm5uYkycMPP5z29vbcdttt6ezsTEdHR1paWvL4449n2LBhu7xW\n",
              "Y2NjGhsbezy3N+/oAwAAQEn6/Z35GTNmZPny5dm8eXOqqsrtt9+eSy65JEmyYsWKvPjii2lra8sj\n",
              "jzySQYMGpa2tbbchDwAAAAeKusb8nDlz0tTUlE2bNuXss8/OqFGjkiSzZs3K8uXLkyStra1ZuHBh\n",
              "Jk+enFGjRmXYsGGZM2dOPccCAACAotWqqqr6e4h6mjt3bhYtWtTfYwAAAECf6feP2QMAAAC9I+YB\n",
              "AACgMGIeAAAACiPmAQAAoDBiHgAAAAoj5gEAAKAwYh4AAAAKI+YBAACgMGIeAAAACiPmAQAAoDBi\n",
              "HgAAAAoj5gEAAKAwYh4AAAAKI+YBAACgMGIeAAAACiPmAQAAoDBiHgAAAAoj5gEAAKAwYh4AAAAK\n",
              "I+YBAACgMGIeAAAACiPmAQAAoDBiHgAAAAoj5gEAAKAwYh4AAAAKI+YBAACgMGIeAAAACiPmAQAA\n",
              "oDBiHgAAAAoj5gEAAKAwYh4AAAAKI+YBAACgMGIeAAAACiPmAQAAoDBiHgAAAAoj5gEAAKAwYh4A\n",
              "AAAKI+YBAACgMGIeAAAACiPmAQAAoDBiHgAAAAoj5gEAAKAwYh4AAAAKI+YBAACgMGIeAAAACiPm\n",
              "AQAAoDBiHgAAAAoj5gEAAKAwYh4AAAAKI+YBAACgMGIeAAAACiPmAQAAoDBiHgAAAAoj5gEAAKAw\n",
              "Yh4AAAAKI+YBAACgMGIeAAAACiPmAQAAoDBiHgAAAAoj5gEAAKAwYh4AAAAKI+YBAACgMGIeAAAA\n",
              "CiPmAQAAoDBiHgAAAAoj5gEAAKAwYh4AAAAKI+YBAACgMGIeAAAACiPmAQAAoDBiHgAAAAoj5gEA\n",
              "AKAwYh4AAAAKI+YBAACgMGIeAAAACiPmAQAAoDBiHgAAAAoj5gEAAKAwdY35K6+8Mi0tLanValmz\n",
              "Zs0e1y1dujSjR4/OyJEjM3v27OzYsSNJ8tBDD2XChAkZO3Zsjj/++MybNy9dXV31HBkAAAD2e3WN\n",
              "+YsuuiiPPPJIRowYscc1GzZsyIIFC7JixYqsW7cur7zySu68884kydChQ/Otb30rzzzzTP7rv/4r\n",
              "K1euzN13313PkQEAAGC/V9eYP/PMM9PU1PSua5YtW5bp06dn+PDhqdVqueKKK3LvvfcmSU455ZS0\n",
              "trYmSQ4++OCMGzcubW1te3yt7du3p6Ojo8exc+fOPrseAAAA2B/0++/Mt7e393jnvqWlJe3t7bus\n",
              "27x5c5YtW5Zzzz13j6914403ZvDgwT2OVatW1WVuAAAA6C/9HvN7o6OjI9OmTcu8efNy2mmn7XHd\n",
              "/Pnzs2XLlh7HhAkT9uGkAAAAUH8D+3uA5ubmrF+/vvtxW1tbmpubux9v3bo1U6dOzXnnnZe5c+e+\n",
              "62s1NjamsbGxx3MNDQ19OzAAAAD0s35/Z37GjBlZvnx5Nm/enKqqcvvtt+eSSy5Jkvz85z/P1KlT\n",
              "M3Xq1Hzxi1/s50kBAABg/1DXmJ8zZ06ampqyadOmnH322Rk1alSSZNasWVm+fHmSpLW1NQsXLszk\n",
              "yZMzatSoDBs2LHPmzEmSLF68OKtWrcr999+fcePGZdy4cfmrv/qreo4MAAAA+71aVVVVfw9RT3Pn\n",
              "zs2iRYv6ewwAAADoM/3+MXsAAACgd8Q8AAAAFEbMAwAAQGHEPAAAABRGzAMAAEBhxDwAAAAURswD\n",
              "AABAYcQ8AAAAFEbMAwAAQGHEPAAAABRGzAMAAEBhxDwAAAAURswDAABAYcQ8AAAAFEbMAwAAQGHE\n",
              "PAAAABRGzAMAAEBhxDwAAAAURswDAABAYcQ8AAAAFEbMAwAAQGHEPAAAABRGzAMAAEBhxDwAAAAU\n",
              "RswDAABAYcQ8AAAAFEbMAwAAQGHEPAAAABRGzAMAAEBhxDwAAAAURswDAABAYcQ8AAAAFEbMAwAA\n",
              "QGHEPAAAABRGzAMAAEBhxDwAAAAURswDAABAYcQ8AAAAFEbMAwAAQGHEPAAAABRGzAMAAEBhxDwA\n",
              "AAAURswDAABAYcQ8AAAAFEbMAwAAQGHEPAAAABRGzAMAAEBhxDwAAAAURswDAABAYcQ8AAAAFEbM\n",
              "AwAAQGHEPAAAABRGzAMAAEBhxDwAAAAURswDAABAYcQ8AAAAFEbMAwAAQGHEPAAAABRGzAMAAEBh\n",
              "xDwAAAAURswDAABAYcQ8AAAAFEbMAwAAQGHEPAAAABRm4K/yRc8880w2bdqUD33oQznxxBMzZMiQ\n",
              "Ph4LAAAA2JO9jvmtW7fmpptuyt/93d/lkEMOyRFHHJFt27Zl/fr1mTBhQq699tp84hOfqOesAAAA\n",
              "QHoR8x//+Mfzuc99Lk8++WSOOOKI7ue7urqyYsWK3H777Vm3bl3mzJlTl0EBAACAd+x1zD/66KNp\n",
              "bGzc5fkBAwZkypQpmTJlSrZv396nwwEAAAC72usb4O0u5H+VNQAAAMD7s9cxf+6552blypW7PffG\n",
              "G2/k5ptvzh133NFngwEAAAC7t9cfs7/hhhsyf/78PPPMMzn99NO7b4D33HPP5aWXXsof/dEf5fOf\n",
              "/3w9ZwUAAADSi5g/6aST8v3vfz8bN27Mww8/nE2bNuWQQw7J7/3e7+WjH/1oBg78lf6VOwAAAKCX\n",
              "el3gr7/+ei699NIez/3whz/MSSed1GdDAQAAAHu2178z/wszZ87cq+cAAACA+tjrd+ZfffXVbN68\n",
              "OW+99Vb++7//O1VVJUm2bNmSN998s24DAgAAAD3tdczfe++9ufXWW/OTn/wk06dP735+8ODBmTdv\n",
              "Xl2GAwAAAHa11zF/1VVX5aqrrsqXv/zlLFiwoJ4zAQAAAO+i1zfAW7BgQbq6urJ58+Z0dnZ2P9/c\n",
              "3NyngwEAAAC71+sb4H3jG9/IkCFDcuKJJ2b8+PEZP358TjvttN2uvfLKK9PS0pJarZY1a9bs8TWX\n",
              "Ll2a0aNHZ+TIkZk9e3Z27NixV+cAAADgQNTrmP/Lv/zLPP744/nZz36Wn/70p/npT3+aV199dbdr\n",
              "L7roojzyyCMZMWLEHl9vw4YNWbBgQVasWJF169bllVdeyZ133vme5wAAAOBA1euYP/zww3PMMcfs\n",
              "1dozzzwzTU1N77pm2bJlmT59eoYPH55arZYrrrgi995773ueAwAAgANVr39n/vzzz8+tt96az3zm\n",
              "Mzn44IO7nx80aNCvNEB7e3uPd+5bWlrS3t7+nud2Z/v27dm+fXuP53bu3PkrzQUAAAD7q16/M/9n\n",
              "f/ZnmTt3boYPH56hQ4dmyJAhGTp0aD1m67Ubb7wxgwcP7nGsWrWqv8cCAACAPtXrmO/q6uo+du7c\n",
              "2f3fX1Vzc3NefPHF7sdtbW3dd8Z/t3O7M3/+/GzZsqXHMWHChF95NgAAANgf9Trm+9qMGTOyfPny\n",
              "bN68OVVV5fbbb88ll1zynud2p7GxMYMGDepxNDQ07KtLAQAAgH2i1zE/YMCANDQ07HLszpw5c9LU\n",
              "1JRNmzbl7LPPzqhRo5Iks2bNyvLly5Mkra2tWbhwYSZPnpxRo0Zl2LBhmTNnznueAwAAgANVraqq\n",
              "qjdf8Oabb3b/+a233srdd9+dnTt35k//9E/7fLi+MHfu3CxatKi/xwAAAIA+0+t35g899NDu4/DD\n",
              "D8/cuXOzbNmyeswGAAAA7Mb7/p355557Lq+99lpfzAIAAADshV7/O/NDhw5NrVZLknR2diZJlixZ\n",
              "0rdTAQAAAHvU65hfs2bN//vigQMzfPhwd4wHAACAfajXMT9ixIj87//+b3fUDx06NIccckhfzwUA\n",
              "AADsQa9jfuXKlZkxY0aGDx+eJHnllVdy3333ZeLEiX0+HAAAALCrXsf8L+5eP3ny5CTvxP3VV1+d\n",
              "//zP/+zz4QAAAIBd9fpu9m+99VZ3yCfJpEmTsm3btj4dCgAAANizXsf8r//6r+cHP/hB9+MHH3ww\n",
              "hx56aJ8OBQAAAOxZrz9m/zd/8ze58MILu+9g39XVlfvvv7/PBwMAAAB2r9cx/5Of/CRPPPFEXnnl\n",
              "lSTJEUcckVWrVvX5YAAAAMDu9fpj9gsWLMiwYcNywgkn5IQTTsjhhx+eBQsW1GM2AAAAYDd6HfP/\n",
              "v1qtlp07d/bFLAAAAMBe6HXMH3bYYVm5cmX340cffTSHHXZYnw4FAAAA7Fmvf2f+r//6r3PBBRfk\n",
              "2GOPTZI8//zz+c53vtPngwEAAAC71+uYnzhxYp599tk89thjSd75d+aHDBnS13MBAAAAe9DrmE+S\n",
              "oUOH5lOf+lRfzwIAAADshfd9AzwAAABg3xLzAAAAUBgxDwAAAIUR8wAAAFAYMQ8AAACFEfMAAABQ\n",
              "GDEPAAAAhRHzAAAAUBgxDwAAAIUR8wAAAFAYMQ8AAACFEfMAAABQGDEPAAAAhRHzAAAAUBgxDwAA\n",
              "AIUR8wAAAFAYMQ8AAACFEfMAAABQGDEPAAAAhRHzAAAAUBgxDwAAAIUR8wAAAFAYMQ8AAACFEfMA\n",
              "AABQGDEPAAAAhRHzAAAAUBgxDwAAAIUR8wAAAFAYMQ8AAACFEfMAAABQGDEPAAAAhRHzAAAAUBgx\n",
              "DwAAAIUR8wAAAFAYMQ8AAACFEfMAAABQGDEPAAAAhRHzAAAAUBgxDwAAAIUR8wAAAFAYMQ8AAACF\n",
              "EfMAAABQGDEPAAAAhRHzAAAAUBgxDwAAAIUR8wAAAFAYMQ8AAACFEfMAAABQGDEPAAAAhRHzAAAA\n",
              "UBgxDwAAAIUR8wAAAFAYMQ8AAACFEfMAAABQGDEPAAAAhRHzAAAAUBgxDwAAAIUR8wAAAFAYMQ8A\n",
              "AACFEfMAAABQGDEPAAAAhRHzAAAAUJi6xvzzzz+fSZMmZcyYMTn99NOzdu3aXdZ0dXXlmmuuyQkn\n",
              "nJBjjz02l112Wd5+++3u81/96lczduzYjBs3LmeccUZWrVpVz5EBAABgv1fXmJ8zZ04uv/zy/PjH\n",
              "P861116bmTNn7rJm6dKlWb16dVavXp1nn302AwYMyOLFi5Mka9asyd/+7d9m1apVWbNmTb7whS/k\n",
              "C1/4Qj1HBgAAgP1e3WL+1VdfzRNPPJFLL700STJjxoxs3Lgx69at67Huqaeeyic/+ckcdNBBqdVq\n",
              "Oeecc3LPPfckSWq1Wnbs2JE333wzSfLGG2+kqalpj99z+/bt6ejo6HHs3LmzTlcIAAAA/aNuMb9x\n",
              "48YceeSRGThwYJJ3wry5uTnt7e091o0fPz7Lly9PR0dHduzYkW9/+9tpa2tLkpx88sm5+uqrc/TR\n",
              "R6epqSm33HJLlixZssfveeONN2bw4ME9Dh/LBwAA4IOm32+AN3PmzEydOjVTpkzJlClTMmbMmO6/\n",
              "ANiwYUPuv//+rFu3Lps2bcrVV1+dT3/603t8rfnz52fLli09jgkTJuyrSwEAAIB9om4xf9RRR+Xl\n",
              "l19OZ2dnkqSqqrS3t6e5ubnHulqtli996Ut58skns3LlyowdOzbHH398kuS+++7LiSeemN/4jd9I\n",
              "kvz+7/9+Hn300R43yPtljY2NGTRoUI+joaGhXpcIAAAA/aJuMf+Rj3wkp556ar75zW8meSfMm5qa\n",
              "MmrUqB7rtm3bltdffz1J8tprr+UrX/lK5s2blyRpbW3No48+mp///OdJku9973sZM2ZMDjrooHqN\n",
              "DQAAAPu9gfV88TvuuCMzZ87MDTfckEGDBuWuu+5KksyaNSvTp0/P9OnTs2XLlnzsYx/LgAED0tXV\n",
              "lauuuirTpk1LklxwwQV5/PHHc9ppp6WxsTGHHnpo/uEf/qGeIwMAAMB+r1ZVVdXfQ9TT3Llzs2jR\n",
              "ov4eAwAAAPpMv98ADwAAAOgdMQ8AAACFEfMAAABQGDEPAAAAhRHzAAAAUBgxDwAAAIUR8wAAAFAY\n",
              "MQ8AAACFEfMAAABQGDEPAAAAhRHzAAAAUBgxDwAAAIUR8wAAAFAYMQ8AAACFEfMAAABQGDEPAAAA\n",
              "hRHzAAAAUBgxDwAAAIUR8wAAAFAYMQ8AAACFEfMAAABQGDEPAAAAhRHzAAAAUBgxDwAAAIUR8wAA\n",
              "AFAYMQ8AAACFEfMAAABQGDEPAAAAhRHzAAAAUBgxDwAAAIUR8wAAAFAYMQ8AAACFEfMAAABQGDEP\n",
              "AAAAhRHzAAAAUBgxDwAAAIUR8wAAAFAYMQ8AAACFEfMAAABQGDEPAAAAhRHzAAAAUBgxDwAAAIUR\n",
              "8wAAAFAYMQ8AAACFEfMAAABQGDEPAAAAhRHzAAAAUBgxDwAAAIUR8wAAAFAYMQ8AAACFEfMAAABQ\n",
              "GDEPAAAAhRHzAAAAUBgxDwAAAIUR8wAAAFAYMQ8AAACFEfMAAABQGDEPAAAAhRHzAAAAUBgxDwAA\n",
              "AIUR8wAAAFAYMQ8AAACFEfMAAABQGDEPAAAAhRHzAAAAUBgxDwAAAIUR8wAAAFAYMQ8AAACFEfMA\n",
              "AABQGDEPAAAAhRHzAAAAUBgxDwAAAIUR8wAAAFAYMQ8AAACFEfMAAABQGDEPAAAAhRHzAAAAUBgx\n",
              "DwAAAIWpa8w///zzmTRpUsaMGZPTTz89a9eu3WVNV1dXrrnmmpxwwgk59thjc9lll+Xtt9/uPt/e\n",
              "3p5p06blmGOOydixY7NkyZJ6jgwAAAD7vbrG/Jw5c3L55Zfnxz/+ca699trMnDlzlzVLly7N6tWr\n",
              "s3r16jz77LMZMGBAFi9enCSpqioXXHBBPve5z+VHP/pRnnnmmVx88cX1HBkAAAD2e3WL+VdffTVP\n",
              "PPFELr300iTJjBkzsnHjxqxbt67Huqeeeiqf/OQnc9BBB6VWq+Wcc87JPffckyR58MEH09jYmN/5\n",
              "nd/pXn/EEUfs8Xtu3749HR0dPY6dO3fW4eoAAACg/9Qt5jdu3JgjjzwyAwcOTJLUarU0Nzenvb29\n",
              "x7rx48dn+fLl6ejoyI4dO/Ltb387bW1tSZJnnnkmw4YNyyWXXJJTTjklF1xwQV544YU9fs8bb7wx\n",
              "gwcP7nGsWrWqXpcIAAAA/aLfb4A3c+bMTJ06NVOmTMmUKVMyZsyY7r8A6OzszEMPPZQFCxbkySef\n",
              "zNlnn/2uH7OfP39+tmzZ0uOYMGHCvroUAAAA2CfqFvNHHXVUXn755XR2diZ55/ff29vb09zc3GNd\n",
              "rVbLl770pTz55JNZuXJlxo4dm+OPPz5J0tzcnFNOOaX78Wc/+9msXr06O3bs2O33bGxszKBBg3oc\n",
              "DQ0N9bpEAAAA6Bd1i/mPfOQjOfXUU/PNb34zSXLfffelqakpo0aN6rFu27Ztef3115Mkr732Wr7y\n",
              "la9k3rx5SZJzzjknmzZtyksvvZQk+ed//uccd9xx+bVf+7V6jQ0AAAD7vYH1fPE77rgjM2fOzA03\n",
              "3JBBgwblrrvuSpLMmjUr06dPz/Tp07Nly5Z87GMfy4ABA9LV1ZWrrroq06ZNS5Iceuihuf322/Pb\n",
              "v/3bqaoqgwcPzre+9a16jgwAAAD7vVpVVVV/D1FPc+fOzaJFi/p7DAAAAOgz/X4DPAAAAKB3xDwA\n",
              "AAAURswDAABAYcQ8AAAAFEbMAwAAQGHEPAAAABRGzAMAAEBhxDwAAAAURswDAABAYcQ8AAAAFEbM\n",
              "AwAAQGHEPAAAABRGzAMAAEBhxDwAAAAURswDAABAYcQ8AAAAFEbMAwAAQGHEPAAAABRGzAMAAEBh\n",
              "xDwAAAAURswDAABAYcQ8AAAAFEbMAwAAQGHEPAAAABRGzAMAAEBhxDwAAAAURswDAABAYcQ8AAAA\n",
              "FEbMAwAAQGHEPAAAABRGzAMAAEBhxDwAAAAURswDAABAYcQ8AAAAFEbMAwAAQGHEPAAAABRGzAMA\n",
              "AEBhxDwAAAAURswDAABAYcQ8AAAAFEbMAwAAQGHEPAAAABRGzAMAAEBhxDwAAAAURswDAABAYcQ8\n",
              "AAAAFEbMAwAAQGHEPAAAABRGzAMAAEBhxDwAAAAURswDAABAYcQ8AAAAFEbMAwAAQGHEPAAAABRG\n",
              "zAMAAEBhxDwAAAAURswDAABAYcQ8AAAAFEbMAwAAQGHEPAAAABSmVlVV1d9D1NOFF16YlpaW/h6D\n",
              "frJz586sWrUqEyZMSENDQ3+PA+/KfqUk9islsV8pif1KkowYMSJXXXXVu675wMc8B7aOjo4MHjw4\n",
              "W7ZsyaBBg/p7HHhX9islsV8pif1KSexX9paP2QMAAEBhxDwAAAAURswDAABAYcQ8H2iNjY35i7/4\n",
              "izQ2Nvb3KPCe7FdKYr9SEvuVktiv7C03wAMAAIDCeGceAAAACiPmAQAAoDBiHgAAAAoj5ileV1dX\n",
              "/viP/zgjR47MqFGjctttt+1x7fPPP59JkyZlzJgxOf3007N27dpd1tx1112p1Wp54IEH6jg1B6q+\n",
              "2K/btm3L+eefnzFjxuTkk0/Ob/3Wb2XdunX76hL4gNubn5NJsnTp0owePTojR47M7Nmzs2PHjr06\n",
              "B33p/e7Xhx56KBMmTMjYsWNz/PHHZ968eenq6tqXl8ABpC9+viZJVVU566yzMmTIkH0wNfu1Cgr3\n",
              "jW98ozrrrLOqzs7O6mc/+1nV3NxcPf3007td+/GPf7y66667qqqqqn/6p3+qTjvttB7nN2zYUE2c\n",
              "OLE644wzqu985zt1npwDUV/s17feeqv6/ve/X3V1dVVVVVVLliyppkyZsi/G5wDwXj8nq6qqXnjh\n",
              "herII4+sXn755aqrq6uaNm1addttt73nOehr73e/rl69ulq/fn1VVe/8bJ08eXL360Ffe7/79Rdu\n",
              "vvnmatasWdXgwYP3wdTsz7wzT/H+8R//MbNnz05DQ0M+/OEP59Of/nTuvffeXda9+uqreeKJJ3Lp\n",
              "pZcmSWbMmJGNGzd2v6PZ1dWVWbNmZcmSJf4pEOqmL/brwQcfnE996lOp1WpJkjPOOCNtbW378jL4\n",
              "gHqvn5O/sGzZskyfPj3Dhw9PrVbLFVdc0b2P3+0c9KW+2K+nnHJKWltbkyQHH3xwxo0b5+cpddEX\n",
              "+zVJ1q5dmwceeCDXXXfdPp2f/ZOYp3jt7e0ZMWJE9+OWlpa0t7fvsm7jxo058sgjM3DgwCRJrVZL\n",
              "c3Nz99pFixZl8uTJGT9+/L4ZnANSX+3XX7Z48eKcd9559RuaA8be7rt328d7u8fh/eqL/frLNm/e\n",
              "nGXLluXcc8+t7+AckPpiv+7YsSOzZ8/OHXfckYaGhn03PPutgf09ALyXiRMn5vnnn9/tuSeffLJP\n",
              "vsfTTz+d++67L//xH//RJ6/HgWtf7NdfdsMNN2TdunV58MEH+/y1AQ4UHR0dmTZtWubNm5fTTjut\n",
              "v8eB3Vq4cGEuvPDCHHfccT5BQhIxTwEee+yxdz3f3NycF198MRMnTkyStLW1pbm5eZd1Rx11VF5+\n",
              "+eV0dnZm4MCBqaoq7e3taW5uzr/+67+mra0to0ePTvLO385ffvnlefnll/MHf/AHfX9RfGDti/36\n",
              "CzfddFPuv//+/OAHP8ghhxzStxfCAWlv9l3yzj5ev3599+Nf3sfvdg76Ul/s1yTZunVrpk6dmvPO\n",
              "Oy9z587dZ/NzYOmL/frwww+nvb09t912Wzo7O9PR0ZGWlpY8/vjjGTZs2D69HvYT/fob+9AH7rrr\n",
              "rl1uKPbDH/5wt2unTJnS48Yj48eP3+M6N8CjHvpqv958883VqaeeWv3P//zPvhibA8je/Jxcv379\n",
              "LjdoWrJkyXueg772fvfr1q1bq0mTJlULFy7cl2NzgHq/+/WXbdiwwQ3wqMQ8xevs7Kz+8A//sDr6\n",
              "6KOr1tbW6tZbb+0+993vfre67LLLuh8/99xz1RlnnFGNHj26Gj9+/LtGlJinHvpiv27cuLFKUrW2\n",
              "tlYnn3xydfLJJ1cTJkzY59fCB9Oe9t1ll11Wffe73+1ed+edd1atra1Va2tr9fnPf756++239+oc\n",
              "9KX3u1+vv/76auDAgd0/S08++eTq+uuv75dr4YOvL36+/oKYp6qqqlZVVdXfnw4AAAAA9p672QMA\n",
              "AEBhxDwAAAAURswDAABAYcQ8ABzgxo0bl61bt/b66y666KL8/d//fd8PBAC8J//OPAAc4NasWdPf\n",
              "IwAAveSdeQA4wNVqtbzxxhtJkpaWlvz5n/95Jk6cmKOPPjrXX39997rnnnsukyZNyvHHH5/zzz8/\n",
              "HR0d3ee2bt2a2bNnZ8KECTnppJNy+eWX5+23386PfvSjNDU15YUXXkiS3HTTTZk6dWq6urr26TUC\n",
              "wAeNmAcAenjjjTfy2GOP5fHHH8/Xvva1vPTSS0mSz372s7nsssuydu3afPnLX87DDz/c/TV/8id/\n",
              "kt/8zd/MqlWr8tRTT6WrqyuLFy/OMccck6997Wu5+OKL8+///u/5+te/nnvuuScDBvhfEAB4P3zM\n",
              "HgDo4TOf+UyS5PDDD09ra2s2bNiQww47LGvWrMnMmTOTJCeeeGI++tGPdn/NAw88kMceeyyLFi1K\n",
              "krz11ltpaGhIkvzu7/5u/u3f/i1nn312HnzwwQwbNmzfXhAAfACJeQCgh4MPPrj7zw0NDens7Nzt\n",
              "ulqt1v3nqqpy3333ZcyYMbus6+zszNNPP50Pf/jD3e/yAwDvj8+4AQDvadCgQTnllFNy9913J0nW\n",
              "rl2bRx55pPv8+eefn69+9avd4f/6669n3bp1SZLrrrsuxxxzTFasWJFrrrmm+3kA4Fcn5gGAvXL3\n",
              "3XfnzjvvzAknnJAvfvGLOfPMM7vP3XLLLfnQhz6UcePG5aSTTsonPvGJtLW15Xvf+17+5V/+JV//\n",
              "+tczatSoLFq0KBdffHG2bdvWj1cCAOWrVVVV9fcQAAAAwN7zzjwAAAAURswDAABAYcQ8AAAAFEbM\n",
              "AwAAQGHEPAAAABRGzAMAAEBhxDwAAAAURswDAABAYcQ8AAAAFEbMAwAAQGH+D/y05lEGmTEeAAAA\n",
              "AElFTkSuQmCC\n",
              "\">\n",
              "      </div>\n",
              "      <script type=\"text/javascript\">\n",
              "        (() => {\n",
              "          const chartElement = document.getElementById(\"chart-cb6b00ce-acc5-4bcc-8251-083855ddef17\");\n",
              "          async function getCodeForChartHandler(event) {\n",
              "            const chartCodeResponse =  await google.colab.kernel.invokeFunction(\n",
              "                'getCodeForChart', [\"chart-cb6b00ce-acc5-4bcc-8251-083855ddef17\"], {});\n",
              "            const responseJson = chartCodeResponse.data['application/json'];\n",
              "            await google.colab.notebook.addCell(responseJson.code, 'code');\n",
              "          }\n",
              "          chartElement.onclick = getCodeForChartHandler;\n",
              "        })();\n",
              "      </script>\n",
              "      <style>\n",
              "        .colab-quickchart-chart-with-code  {\n",
              "            display: block;\n",
              "            float: left;\n",
              "            border: 1px solid transparent;\n",
              "        }\n",
              "\n",
              "        .colab-quickchart-chart-with-code:hover {\n",
              "            cursor: pointer;\n",
              "            border: 1px solid #aaa;\n",
              "        }\n",
              "      </style>"
            ],
            "text/plain": [
              "from matplotlib import pyplot as plt\n",
              "import seaborn as sns\n",
              "def _plot_series(series, series_name, series_index=0):\n",
              "  from matplotlib import pyplot as plt\n",
              "  import seaborn as sns\n",
              "  palette = list(sns.palettes.mpl_palette('Dark2'))\n",
              "  counted = (series['index']\n",
              "                .value_counts()\n",
              "              .reset_index(name='counts')\n",
              "              .rename({'index': 'index'}, axis=1)\n",
              "              .sort_values('index', ascending=True))\n",
              "  xs = counted['index']\n",
              "  ys = counted['counts']\n",
              "  plt.plot(xs, ys, label=series_name, color=palette[series_index % len(palette)])\n",
              "\n",
              "fig, ax = plt.subplots(figsize=(10, 5.2), layout='constrained')\n",
              "df_sorted = _df_0.sort_values('index', ascending=True)\n",
              "_plot_series(df_sorted, '')\n",
              "sns.despine(fig=fig, ax=ax)\n",
              "plt.xlabel('index')\n",
              "_ = plt.ylabel('count()')"
            ]
          },
          "metadata": {},
          "output_type": "display_data"
        }
      ],
      "source": [
        "import pandas as pd\n",
        "pdf = pd.DataFrame(\n",
        "    zip(stmt, tokenizer.batch_decode(prediction, skip_special_tokens=True)),\n",
        "    columns=[\"id\", \"translation\"],\n",
        ")\n",
        "display(pdf)"
      ]
    },
    {
      "cell_type": "code",
      "execution_count": 61,
      "metadata": {
        "colab": {
          "base_uri": "https://localhost:8080/"
        },
        "id": "2UQfkdzPYwF7",
        "outputId": "e5d12fe1-61ee-4ade-88cc-deeb0d26754a"
      },
      "outputs": [
        {
          "name": "stderr",
          "output_type": "stream",
          "text": [
            "/usr/local/lib/python3.10/dist-packages/transformers/models/marian/tokenization_marian.py:197: UserWarning: Recommended: pip install sacremoses.\n",
            "  warnings.warn(\"Recommended: pip install sacremoses.\")\n"
          ]
        },
        {
          "data": {
            "text/plain": [
              "[{'translation_text': 'मुझे ये पसंद है'}]"
            ]
          },
          "execution_count": 61,
          "metadata": {},
          "output_type": "execute_result"
        }
      ],
      "source": [
        "tokenizer_ft = AutoTokenizer.from_pretrained(finetuned_model_path)\n",
        "translator_ft = pipeline(\"translation\", model=fine_tuned_model, tokenizer=tokenizer_ft)\n",
        "translator_ft(\"I like this\")"
      ]
    }
  ],
  "metadata": {
    "accelerator": "GPU",
    "colab": {
      "collapsed_sections": [
        "s5vtJuNLmnM7",
        "fvj4EMWqnZyC"
      ],
      "gpuType": "T4",
      "provenance": []
    },
    "kernelspec": {
      "display_name": "Python 3",
      "name": "python3"
    },
    "language_info": {
      "name": "python"
    }
  },
  "nbformat": 4,
  "nbformat_minor": 0
}
